{
 "cells": [
  {
   "cell_type": "code",
   "execution_count": 1,
   "metadata": {},
   "outputs": [],
   "source": [
    "#First Place\n",
    "# https://huggingface.co/rafalposwiata/deproberta-large-depression\n",
    "# https://github.com/rafalposwiata/depression-detection-lt-edi-2022\n",
    "\n",
    "\n",
    "#Second Place\n",
    "#https://github.com/wywyWang/Depression-Detection-LT-EDI-ACL-2022"
   ]
  },
  {
   "cell_type": "code",
   "execution_count": 1,
   "metadata": {},
   "outputs": [],
   "source": [
    "from dotenv import load_dotenv\n",
    "import pandas as pd\n",
    "import numpy as np\n",
    "import os\n",
    "import requests"
   ]
  },
  {
   "cell_type": "code",
   "execution_count": 2,
   "metadata": {},
   "outputs": [
    {
     "name": "stdout",
     "output_type": "stream",
     "text": [
      "INFO: Pandarallel will run on 6 workers.\n",
      "INFO: Pandarallel will use standard multiprocessing data transfer (pipe) to transfer data between the main process and workers.\n",
      "\n",
      "WARNING: You are on Windows. If you detect any issue with pandarallel, be sure you checked out the Troubleshooting page:\n",
      "https://nalepae.github.io/pandarallel/troubleshooting/\n"
     ]
    }
   ],
   "source": [
    "from pandarallel import pandarallel\n",
    "\n",
    "pandarallel.initialize(progress_bar=True)"
   ]
  },
  {
   "cell_type": "code",
   "execution_count": 3,
   "metadata": {},
   "outputs": [],
   "source": [
    "data_dir = \"../data/raw/task2\"\n",
    "file_name = \"depre_postings_es.csv\"\n",
    "auth_key = os.getenv(\"DEEPL_KEY\")\n",
    "target_lang = \"ES\""
   ]
  },
  {
   "cell_type": "code",
   "execution_count": 5,
   "metadata": {},
   "outputs": [],
   "source": [
    "df = pd.read_csv(os.path.join(data_dir, file_name))"
   ]
  },
  {
   "cell_type": "code",
   "execution_count": 6,
   "metadata": {},
   "outputs": [
    {
     "data": {
      "text/plain": [
       "0    1110\n",
       "1     888\n",
       "Name: labels, dtype: int64"
      ]
     },
     "execution_count": 6,
     "metadata": {},
     "output_type": "execute_result"
    }
   ],
   "source": [
    "df.labels.value_counts()"
   ]
  },
  {
   "cell_type": "code",
   "execution_count": 11,
   "metadata": {},
   "outputs": [
    {
     "data": {
      "text/plain": [
       "'Espero que los antidepresivos me maten : Voy a tomar antidepresivos probablemente la semana que viene. Espero que me vuelvan aún más suicida para que finalmente pueda acabar con esto. Estoy planeando tomar una sobredosis de esos antidepresivos si llego a ese punto.'"
      ]
     },
     "execution_count": 11,
     "metadata": {},
     "output_type": "execute_result"
    }
   ],
   "source": [
    "df.translated_text[4]"
   ]
  },
  {
   "cell_type": "code",
   "execution_count": 88,
   "metadata": {},
   "outputs": [],
   "source": [
    "# min_text_len = 50\n",
    "# max_text_len = 300\n",
    "# condition = df[\"text_length\"].between(min_text_len, max_text_len)\n",
    "# df = df[condition]"
   ]
  },
  {
   "cell_type": "code",
   "execution_count": 91,
   "metadata": {},
   "outputs": [],
   "source": [
    "# endpoint = \"https://api-free.deepl.com/v2/translate\"\n",
    "# params={ \n",
    "#      \"auth_key\": auth_key, \n",
    "#      \"target_lang\": target_lang, \n",
    "#      \"text\": \"\", \n",
    "#    }\n",
    "\n",
    "# translated_texts = []\n",
    "# for text in df[\"text\"]:\n",
    "\n",
    "#     params[\"text\"]=text\n",
    "#     response = requests.get(endpoint, params=params) \n",
    "#     trans_text = response.json()[\"translations\"][0][\"text\"]\n",
    "#     translated_texts.append(trans_text) \n",
    "\n",
    "# df[\"translated_text\"] = translated_texts"
   ]
  },
  {
   "cell_type": "code",
   "execution_count": 109,
   "metadata": {},
   "outputs": [],
   "source": [
    "# output_name =\"depre_postings_es.csv\"\n",
    "# foo.to_csv(os.path.join(data_dir, output_name), index=False)"
   ]
  },
  {
   "cell_type": "code",
   "execution_count": null,
   "metadata": {},
   "outputs": [],
   "source": []
  }
 ],
 "metadata": {
  "kernelspec": {
   "display_name": "nlp_env",
   "language": "python",
   "name": "python3"
  },
  "language_info": {
   "codemirror_mode": {
    "name": "ipython",
    "version": 3
   },
   "file_extension": ".py",
   "mimetype": "text/x-python",
   "name": "python",
   "nbconvert_exporter": "python",
   "pygments_lexer": "ipython3",
   "version": "3.10.9"
  },
  "orig_nbformat": 4,
  "vscode": {
   "interpreter": {
    "hash": "db80644d4d348b62375601f08afcf3bbc28955b65f23a924a036c5e2822143ca"
   }
  }
 },
 "nbformat": 4,
 "nbformat_minor": 2
}
